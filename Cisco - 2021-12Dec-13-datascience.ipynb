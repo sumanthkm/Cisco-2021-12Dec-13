{
 "cells": [
  {
   "cell_type": "markdown",
   "metadata": {},
   "source": [
    "# Agenda\n",
    "\n",
    "1. Overview of data science\n",
    "2. Jupyter\n",
    "3. NumPy + NumPy arrays\n",
    "4. Pandas\n",
    "    - Series (1-dimensional data)\n",
    "    - Data frames (2-dimensional data)\n",
    "    - time and Pandas\n",
    "    - visualization + plots\n",
    "5. Machine learning\n",
    "    - Classification models\n",
    "    - Regression models\n",
    "    - Clustering\n",
    "    - testing our models\n",
    "    - a few different algorithms"
   ]
  }
 ],
 "metadata": {
  "kernelspec": {
   "display_name": "Python 3 (ipykernel)",
   "language": "python",
   "name": "python3"
  },
  "language_info": {
   "codemirror_mode": {
    "name": "ipython",
    "version": 3
   },
   "file_extension": ".py",
   "mimetype": "text/x-python",
   "name": "python",
   "nbconvert_exporter": "python",
   "pygments_lexer": "ipython3",
   "version": "3.10.1"
  }
 },
 "nbformat": 4,
 "nbformat_minor": 4
}

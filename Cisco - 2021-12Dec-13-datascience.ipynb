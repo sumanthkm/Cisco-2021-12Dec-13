{
 "cells": [
  {
   "cell_type": "markdown",
   "metadata": {},
   "source": [
    "# Agenda\n",
    "\n",
    "1. Overview of data science\n",
    "2. Jupyter\n",
    "3. NumPy + NumPy arrays\n",
    "4. Pandas\n",
    "    - Series (1-dimensional data)\n",
    "    - Data frames (2-dimensional data)\n",
    "    - time and Pandas\n",
    "    - visualization + plots\n",
    "5. Machine learning\n",
    "    - Classification models\n",
    "    - Regression models\n",
    "    - Clustering\n",
    "    - testing our models\n",
    "    - a few different algorithms"
   ]
  },
  {
   "cell_type": "code",
   "execution_count": 1,
   "metadata": {},
   "outputs": [
    {
     "name": "stdout",
     "output_type": "stream",
     "text": [
      "Hello, out there!\n"
     ]
    }
   ],
   "source": [
    "print('Hello, out there!')  # shift + enter to execute the cell"
   ]
  },
  {
   "cell_type": "code",
   "execution_count": 2,
   "metadata": {},
   "outputs": [],
   "source": [
    "x = 100   # enter == go down one line\n",
    "y = 200   # shift+enter == execute the cell"
   ]
  },
  {
   "cell_type": "code",
   "execution_count": 3,
   "metadata": {},
   "outputs": [
    {
     "data": {
      "text/plain": [
       "300"
      ]
     },
     "execution_count": 3,
     "metadata": {},
     "output_type": "execute_result"
    }
   ],
   "source": [
    "x + y     # variables persist across cells... also, the final line of a cell, if an expression, is returned"
   ]
  },
  {
   "cell_type": "markdown",
   "metadata": {},
   "source": [
    "# Jupyter modes\n",
    "\n",
    "- If you click in the cell, and you have a green outline, you're in \"edit mode.\" Typing will go into the cell. Use shift+enter to execute/finalize the cell.  You can also press [ENTER] to get the same thing.\n",
    "- If you click to the left of the cell, and you have a blue outline, you're in \"command mode.\" Typing will go to Jupyter, which will take your keystrokes as commands. You can also press [ESC] to get into command mode."
   ]
  },
  {
   "cell_type": "code",
   "execution_count": 4,
   "metadata": {},
   "outputs": [
    {
     "data": {
      "text/plain": [
       "20000"
      ]
     },
     "execution_count": 4,
     "metadata": {},
     "output_type": "execute_result"
    }
   ],
   "source": [
    "x * y"
   ]
  },
  {
   "cell_type": "code",
   "execution_count": 5,
   "metadata": {},
   "outputs": [
    {
     "data": {
      "text/plain": [
       "0.5"
      ]
     },
     "execution_count": 5,
     "metadata": {},
     "output_type": "execute_result"
    }
   ],
   "source": [
    "x / y"
   ]
  },
  {
   "cell_type": "code",
   "execution_count": null,
   "metadata": {},
   "outputs": [],
   "source": []
  },
  {
   "cell_type": "code",
   "execution_count": null,
   "metadata": {},
   "outputs": [],
   "source": []
  },
  {
   "cell_type": "markdown",
   "metadata": {},
   "source": [
    "# Jupyter modes\n",
    "\n",
    "- If you click in the cell, and you have a green outline, you're in \"edit mode.\" Typing will go into the cell. Use shift+enter to execute/finalize the cell.  You can also press [ENTER] to get the same thing.\n",
    "- If you click to the left of the cell, and you have a blue outline, you're in \"command mode.\" Typing will go to Jupyter, which will take your keystrokes as commands. You can also press [ESC] to get into command mode."
   ]
  },
  {
   "cell_type": "code",
   "execution_count": null,
   "metadata": {},
   "outputs": [],
   "source": [
    "# Magic commands -- they all start with %\n",
    "\n",
    "%whos"
   ]
  }
 ],
 "metadata": {
  "kernelspec": {
   "display_name": "Python 3 (ipykernel)",
   "language": "python",
   "name": "python3"
  },
  "language_info": {
   "codemirror_mode": {
    "name": "ipython",
    "version": 3
   },
   "file_extension": ".py",
   "mimetype": "text/x-python",
   "name": "python",
   "nbconvert_exporter": "python",
   "pygments_lexer": "ipython3",
   "version": "3.10.1"
  }
 },
 "nbformat": 4,
 "nbformat_minor": 4
}

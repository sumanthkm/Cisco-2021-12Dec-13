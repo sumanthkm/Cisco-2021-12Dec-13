{
 "cells": [
  {
   "cell_type": "markdown",
   "id": "4cd457ca",
   "metadata": {},
   "source": [
    "# Agenda\n",
    "\n",
    "1. Sorting\n",
    "2. Strings and series\n",
    "3. Plotting \n",
    "4. Data frames\n",
    "     - Defining\n",
    "     - Reading data from files into them\n",
    "     - Sorting\n",
    "     - Grouping\n",
    "     - Pivot tables\n",
    "     - Plotting"
   ]
  },
  {
   "cell_type": "code",
   "execution_count": 2,
   "id": "5b0d8c52",
   "metadata": {},
   "outputs": [],
   "source": [
    "import numpy as np\n",
    "import pandas as pd\n",
    "from pandas import Series, DataFrame\n",
    "%matplotlib inline"
   ]
  },
  {
   "cell_type": "code",
   "execution_count": 5,
   "id": "f1035770",
   "metadata": {},
   "outputs": [
    {
     "data": {
      "text/plain": [
       "f    44\n",
       "h    47\n",
       "i    64\n",
       "a    67\n",
       "b    67\n",
       "j     9\n",
       "c    83\n",
       "g    21\n",
       "d    36\n",
       "e    87\n",
       "dtype: int64"
      ]
     },
     "execution_count": 5,
     "metadata": {},
     "output_type": "execute_result"
    }
   ],
   "source": [
    "np.random.seed(0)\n",
    "s = Series(np.random.randint(0, 100, 10),\n",
    "          index=list('fhiabjcgde'))\n",
    "s"
   ]
  },
  {
   "cell_type": "code",
   "execution_count": 6,
   "id": "398de9e7",
   "metadata": {},
   "outputs": [],
   "source": [
    "# how can I sort these?\n",
    "\n",
    "# in Python, the sorted() function uses \"TimSort\"\n",
    "\n",
    "# we can sort a series by its index (sort_index), or by its values (sort_values)"
   ]
  },
  {
   "cell_type": "code",
   "execution_count": 7,
   "id": "87cbf3e1",
   "metadata": {
    "collapsed": true
   },
   "outputs": [
    {
     "name": "stdout",
     "output_type": "stream",
     "text": [
      "Help on method sort_index in module pandas.core.series:\n",
      "\n",
      "sort_index(axis=0, level=None, ascending: 'bool | int | Sequence[bool | int]' = True, inplace: 'bool' = False, kind: 'str' = 'quicksort', na_position: 'str' = 'last', sort_remaining: 'bool' = True, ignore_index: 'bool' = False, key: 'IndexKeyFunc' = None) method of pandas.core.series.Series instance\n",
      "    Sort Series by index labels.\n",
      "    \n",
      "    Returns a new Series sorted by label if `inplace` argument is\n",
      "    ``False``, otherwise updates the original series and returns None.\n",
      "    \n",
      "    Parameters\n",
      "    ----------\n",
      "    axis : int, default 0\n",
      "        Axis to direct sorting. This can only be 0 for Series.\n",
      "    level : int, optional\n",
      "        If not None, sort on values in specified index level(s).\n",
      "    ascending : bool or list-like of bools, default True\n",
      "        Sort ascending vs. descending. When the index is a MultiIndex the\n",
      "        sort direction can be controlled for each level individually.\n",
      "    inplace : bool, default False\n",
      "        If True, perform operation in-place.\n",
      "    kind : {'quicksort', 'mergesort', 'heapsort', 'stable'}, default 'quicksort'\n",
      "        Choice of sorting algorithm. See also :func:`numpy.sort` for more\n",
      "        information. 'mergesort' and 'stable' are the only stable algorithms. For\n",
      "        DataFrames, this option is only applied when sorting on a single\n",
      "        column or label.\n",
      "    na_position : {'first', 'last'}, default 'last'\n",
      "        If 'first' puts NaNs at the beginning, 'last' puts NaNs at the end.\n",
      "        Not implemented for MultiIndex.\n",
      "    sort_remaining : bool, default True\n",
      "        If True and sorting by level and index is multilevel, sort by other\n",
      "        levels too (in order) after sorting by specified level.\n",
      "    ignore_index : bool, default False\n",
      "        If True, the resulting axis will be labeled 0, 1, …, n - 1.\n",
      "    \n",
      "        .. versionadded:: 1.0.0\n",
      "    \n",
      "    key : callable, optional\n",
      "        If not None, apply the key function to the index values\n",
      "        before sorting. This is similar to the `key` argument in the\n",
      "        builtin :meth:`sorted` function, with the notable difference that\n",
      "        this `key` function should be *vectorized*. It should expect an\n",
      "        ``Index`` and return an ``Index`` of the same shape.\n",
      "    \n",
      "        .. versionadded:: 1.1.0\n",
      "    \n",
      "    Returns\n",
      "    -------\n",
      "    Series or None\n",
      "        The original Series sorted by the labels or None if ``inplace=True``.\n",
      "    \n",
      "    See Also\n",
      "    --------\n",
      "    DataFrame.sort_index: Sort DataFrame by the index.\n",
      "    DataFrame.sort_values: Sort DataFrame by the value.\n",
      "    Series.sort_values : Sort Series by the value.\n",
      "    \n",
      "    Examples\n",
      "    --------\n",
      "    >>> s = pd.Series(['a', 'b', 'c', 'd'], index=[3, 2, 1, 4])\n",
      "    >>> s.sort_index()\n",
      "    1    c\n",
      "    2    b\n",
      "    3    a\n",
      "    4    d\n",
      "    dtype: object\n",
      "    \n",
      "    Sort Descending\n",
      "    \n",
      "    >>> s.sort_index(ascending=False)\n",
      "    4    d\n",
      "    3    a\n",
      "    2    b\n",
      "    1    c\n",
      "    dtype: object\n",
      "    \n",
      "    Sort Inplace\n",
      "    \n",
      "    >>> s.sort_index(inplace=True)\n",
      "    >>> s\n",
      "    1    c\n",
      "    2    b\n",
      "    3    a\n",
      "    4    d\n",
      "    dtype: object\n",
      "    \n",
      "    By default NaNs are put at the end, but use `na_position` to place\n",
      "    them at the beginning\n",
      "    \n",
      "    >>> s = pd.Series(['a', 'b', 'c', 'd'], index=[3, 2, 1, np.nan])\n",
      "    >>> s.sort_index(na_position='first')\n",
      "    NaN     d\n",
      "     1.0    c\n",
      "     2.0    b\n",
      "     3.0    a\n",
      "    dtype: object\n",
      "    \n",
      "    Specify index level to sort\n",
      "    \n",
      "    >>> arrays = [np.array(['qux', 'qux', 'foo', 'foo',\n",
      "    ...                     'baz', 'baz', 'bar', 'bar']),\n",
      "    ...           np.array(['two', 'one', 'two', 'one',\n",
      "    ...                     'two', 'one', 'two', 'one'])]\n",
      "    >>> s = pd.Series([1, 2, 3, 4, 5, 6, 7, 8], index=arrays)\n",
      "    >>> s.sort_index(level=1)\n",
      "    bar  one    8\n",
      "    baz  one    6\n",
      "    foo  one    4\n",
      "    qux  one    2\n",
      "    bar  two    7\n",
      "    baz  two    5\n",
      "    foo  two    3\n",
      "    qux  two    1\n",
      "    dtype: int64\n",
      "    \n",
      "    Does not sort by remaining levels when sorting by levels\n",
      "    \n",
      "    >>> s.sort_index(level=1, sort_remaining=False)\n",
      "    qux  one    2\n",
      "    foo  one    4\n",
      "    baz  one    6\n",
      "    bar  one    8\n",
      "    qux  two    1\n",
      "    foo  two    3\n",
      "    baz  two    5\n",
      "    bar  two    7\n",
      "    dtype: int64\n",
      "    \n",
      "    Apply a key function before sorting\n",
      "    \n",
      "    >>> s = pd.Series([1, 2, 3, 4], index=['A', 'b', 'C', 'd'])\n",
      "    >>> s.sort_index(key=lambda x : x.str.lower())\n",
      "    A    1\n",
      "    b    2\n",
      "    C    3\n",
      "    d    4\n",
      "    dtype: int64\n",
      "\n"
     ]
    }
   ],
   "source": [
    "help(s.sort_index)"
   ]
  },
  {
   "cell_type": "code",
   "execution_count": 8,
   "id": "a0800a79",
   "metadata": {},
   "outputs": [
    {
     "data": {
      "text/plain": [
       "a    67\n",
       "b    67\n",
       "c    83\n",
       "d    36\n",
       "e    87\n",
       "f    44\n",
       "g    21\n",
       "h    47\n",
       "i    64\n",
       "j     9\n",
       "dtype: int64"
      ]
     },
     "execution_count": 8,
     "metadata": {},
     "output_type": "execute_result"
    }
   ],
   "source": [
    "s.sort_index()"
   ]
  },
  {
   "cell_type": "code",
   "execution_count": 9,
   "id": "81c3a9b7",
   "metadata": {},
   "outputs": [
    {
     "data": {
      "text/plain": [
       "j     9\n",
       "g    21\n",
       "d    36\n",
       "f    44\n",
       "h    47\n",
       "i    64\n",
       "a    67\n",
       "b    67\n",
       "c    83\n",
       "e    87\n",
       "dtype: int64"
      ]
     },
     "execution_count": 9,
     "metadata": {},
     "output_type": "execute_result"
    }
   ],
   "source": [
    "s.sort_values()"
   ]
  },
  {
   "cell_type": "markdown",
   "id": "60a5b58c",
   "metadata": {},
   "source": [
    "# Strings"
   ]
  },
  {
   "cell_type": "code",
   "execution_count": 10,
   "id": "a5b9462b",
   "metadata": {},
   "outputs": [
    {
     "data": {
      "text/plain": [
       "array(['this', 'is', 'a', 'test'], dtype='<U4')"
      ]
     },
     "execution_count": 10,
     "metadata": {},
     "output_type": "execute_result"
    }
   ],
   "source": [
    "a = np.array('this is a test'.split())\n",
    "a"
   ]
  },
  {
   "cell_type": "code",
   "execution_count": 11,
   "id": "3840d10b",
   "metadata": {},
   "outputs": [
    {
     "data": {
      "text/plain": [
       "0    this\n",
       "1      is\n",
       "2       a\n",
       "3    test\n",
       "dtype: object"
      ]
     },
     "execution_count": 11,
     "metadata": {},
     "output_type": "execute_result"
    }
   ],
   "source": [
    "s = Series('this is a test'.split())\n",
    "s"
   ]
  },
  {
   "cell_type": "code",
   "execution_count": 12,
   "id": "9f7a006b",
   "metadata": {},
   "outputs": [
    {
     "data": {
      "text/plain": [
       "<NA>"
      ]
     },
     "execution_count": 12,
     "metadata": {},
     "output_type": "execute_result"
    }
   ],
   "source": [
    "pd.NA"
   ]
  },
  {
   "cell_type": "code",
   "execution_count": 13,
   "id": "64bb92d7",
   "metadata": {},
   "outputs": [
    {
     "data": {
      "text/plain": [
       "pandas.core.arrays.string_.StringDtype"
      ]
     },
     "execution_count": 13,
     "metadata": {},
     "output_type": "execute_result"
    }
   ],
   "source": [
    "pd.StringDtype"
   ]
  },
  {
   "cell_type": "code",
   "execution_count": 14,
   "id": "1b546457",
   "metadata": {},
   "outputs": [
    {
     "data": {
      "text/plain": [
       "0    this\n",
       "1      is\n",
       "2       a\n",
       "3    test\n",
       "dtype: object"
      ]
     },
     "execution_count": 14,
     "metadata": {},
     "output_type": "execute_result"
    }
   ],
   "source": [
    "s"
   ]
  },
  {
   "cell_type": "code",
   "execution_count": 16,
   "id": "9a1ab585",
   "metadata": {},
   "outputs": [
    {
     "data": {
      "text/plain": [
       "11"
      ]
     },
     "execution_count": 16,
     "metadata": {},
     "output_type": "execute_result"
    }
   ],
   "source": [
    "# I want to know how long each string (element) is in s\n",
    "\n",
    "# option 1: for loop.  DO NOT DO THIS!\n",
    "sum([len(one_word)\n",
    "for one_word in s])"
   ]
  },
  {
   "cell_type": "code",
   "execution_count": 17,
   "id": "fc2d44ef",
   "metadata": {},
   "outputs": [
    {
     "data": {
      "text/plain": [
       "0    4\n",
       "1    2\n",
       "2    1\n",
       "3    4\n",
       "dtype: int64"
      ]
     },
     "execution_count": 17,
     "metadata": {},
     "output_type": "execute_result"
    }
   ],
   "source": [
    "# option 2: use the str accessor in Pandas\n",
    "# meaning: Each series has a .str attribute.  Via that attribute, we can invoke many methods \n",
    "\n",
    "s.str.len()   # this invokes \"len\" on each element of s, returning a new series"
   ]
  },
  {
   "cell_type": "code",
   "execution_count": 18,
   "id": "e2f5a798",
   "metadata": {},
   "outputs": [
    {
     "data": {
      "text/plain": [
       "11"
      ]
     },
     "execution_count": 18,
     "metadata": {},
     "output_type": "execute_result"
    }
   ],
   "source": [
    "# what is the total length of characters in all of our words?\n",
    "# s.str.len() returned a series\n",
    "\n",
    "s.str.len().sum()   # calculate the lengths, then sum them up"
   ]
  },
  {
   "cell_type": "code",
   "execution_count": 19,
   "id": "069c87c8",
   "metadata": {},
   "outputs": [
    {
     "data": {
      "text/plain": [
       "0    False\n",
       "1    False\n",
       "2    False\n",
       "3    False\n",
       "dtype: bool"
      ]
     },
     "execution_count": 19,
     "metadata": {},
     "output_type": "execute_result"
    }
   ],
   "source": [
    "s.str.isdigit()  # this returns True if all characters in a string are digits (0-9)"
   ]
  },
  {
   "cell_type": "code",
   "execution_count": 20,
   "id": "16eaf82b",
   "metadata": {},
   "outputs": [
    {
     "data": {
      "text/plain": [
       "0    False\n",
       "1    False\n",
       "2    False\n",
       "3     True\n",
       "dtype: bool"
      ]
     },
     "execution_count": 20,
     "metadata": {},
     "output_type": "execute_result"
    }
   ],
   "source": [
    "s.str.contains('e')   # which words contain the character 'e'?"
   ]
  },
  {
   "cell_type": "code",
   "execution_count": 21,
   "id": "7b588b73",
   "metadata": {},
   "outputs": [],
   "source": [
    "# str.contains supports regular expressions!  \n",
    "# https://RegexpCrashCourse.com/"
   ]
  },
  {
   "cell_type": "markdown",
   "id": "8536c150",
   "metadata": {},
   "source": [
    "# Exercise: Strings in series\n",
    "\n",
    "1. Create a series with 10 strings (words). Try to have them vary in length.\n",
    "2. Find all of the words whose lengths are < the mean word length.\n",
    "3. Find all the words that contain both 'a' and 'e'.  (It might be empty!)\n"
   ]
  },
  {
   "cell_type": "code",
   "execution_count": 22,
   "id": "05b919d7",
   "metadata": {},
   "outputs": [
    {
     "data": {
      "text/plain": [
       "0            this\n",
       "1              is\n",
       "2               a\n",
       "3            very\n",
       "4        exciting\n",
       "5             and\n",
       "6     interesting\n",
       "7         example\n",
       "8          series\n",
       "9              is\n",
       "10             it\n",
       "11            not\n",
       "dtype: object"
      ]
     },
     "execution_count": 22,
     "metadata": {},
     "output_type": "execute_result"
    }
   ],
   "source": [
    "s = Series('this is a very exciting and interesting example series is it not'.split())\n",
    "s"
   ]
  },
  {
   "cell_type": "code",
   "execution_count": 23,
   "id": "1c8ebaaa",
   "metadata": {},
   "outputs": [
    {
     "data": {
      "text/plain": [
       "0      4\n",
       "1      2\n",
       "2      1\n",
       "3      4\n",
       "4      8\n",
       "5      3\n",
       "6     11\n",
       "7      7\n",
       "8      6\n",
       "9      2\n",
       "10     2\n",
       "11     3\n",
       "dtype: int64"
      ]
     },
     "execution_count": 23,
     "metadata": {},
     "output_type": "execute_result"
    }
   ],
   "source": [
    "s.str.len()"
   ]
  },
  {
   "cell_type": "code",
   "execution_count": 26,
   "id": "aa10f341",
   "metadata": {},
   "outputs": [
    {
     "data": {
      "text/plain": [
       "0     this\n",
       "1       is\n",
       "2        a\n",
       "3     very\n",
       "5      and\n",
       "9       is\n",
       "10      it\n",
       "11     not\n",
       "dtype: object"
      ]
     },
     "execution_count": 26,
     "metadata": {},
     "output_type": "execute_result"
    }
   ],
   "source": [
    "s[s.str.len() < s.str.len().mean()]"
   ]
  },
  {
   "cell_type": "code",
   "execution_count": 29,
   "id": "422188a0",
   "metadata": {},
   "outputs": [
    {
     "data": {
      "text/plain": [
       "7    example\n",
       "dtype: object"
      ]
     },
     "execution_count": 29,
     "metadata": {},
     "output_type": "execute_result"
    }
   ],
   "source": [
    "# find words that contain both 'a' and 'e'\n",
    "s[s.str.contains('a') & s.str.contains('e')]"
   ]
  },
  {
   "cell_type": "code",
   "execution_count": 32,
   "id": "aa2f365a",
   "metadata": {},
   "outputs": [
    {
     "data": {
      "text/plain": [
       "2     3\n",
       "4     2\n",
       "3     2\n",
       "1     1\n",
       "8     1\n",
       "11    1\n",
       "7     1\n",
       "6     1\n",
       "dtype: int64"
      ]
     },
     "execution_count": 32,
     "metadata": {},
     "output_type": "execute_result"
    }
   ],
   "source": [
    "# how often does each word length appear in my series?\n",
    "# we can use \"value_counts\", a method that runs on a series\n",
    "\n",
    "# the result of value_counts is a series s:\n",
    "# - the index to the series contains the unique values from s\n",
    "# - the values in the series contain the (sorted, descending order) count for each value in s\n",
    "s.str.len().value_counts()"
   ]
  },
  {
   "cell_type": "code",
   "execution_count": 33,
   "id": "0819c0a2",
   "metadata": {},
   "outputs": [
    {
     "data": {
      "text/plain": [
       "2     0.250000\n",
       "4     0.166667\n",
       "3     0.166667\n",
       "1     0.083333\n",
       "8     0.083333\n",
       "11    0.083333\n",
       "7     0.083333\n",
       "6     0.083333\n",
       "dtype: float64"
      ]
     },
     "execution_count": 33,
     "metadata": {},
     "output_type": "execute_result"
    }
   ],
   "source": [
    "s.str.len().value_counts(normalize=True)   # return percentages, not numbers"
   ]
  },
  {
   "cell_type": "code",
   "execution_count": 34,
   "id": "86db094e",
   "metadata": {},
   "outputs": [
    {
     "data": {
      "text/plain": [
       "0     apple\n",
       "1     apple\n",
       "2    banana\n",
       "3     apple\n",
       "4    banana\n",
       "5     apple\n",
       "6    cherry\n",
       "7    cherry\n",
       "8    banana\n",
       "dtype: object"
      ]
     },
     "execution_count": 34,
     "metadata": {},
     "output_type": "execute_result"
    }
   ],
   "source": [
    "s = Series(['apple', 'apple', 'banana', 'apple', 'banana', 'apple', 'cherry', 'cherry', 'banana'])\n",
    "s"
   ]
  },
  {
   "cell_type": "code",
   "execution_count": 35,
   "id": "7fe5f819",
   "metadata": {},
   "outputs": [
    {
     "data": {
      "text/plain": [
       "apple     4\n",
       "banana    3\n",
       "cherry    2\n",
       "dtype: int64"
      ]
     },
     "execution_count": 35,
     "metadata": {},
     "output_type": "execute_result"
    }
   ],
   "source": [
    "s.value_counts()"
   ]
  },
  {
   "cell_type": "code",
   "execution_count": 36,
   "id": "5c5ce4bf",
   "metadata": {},
   "outputs": [
    {
     "data": {
      "text/plain": [
       "array(['apple', 'banana', 'cherry'], dtype=object)"
      ]
     },
     "execution_count": 36,
     "metadata": {},
     "output_type": "execute_result"
    }
   ],
   "source": [
    "s.unique()"
   ]
  },
  {
   "cell_type": "markdown",
   "id": "f96ddb6d",
   "metadata": {},
   "source": [
    "# Plotting"
   ]
  },
  {
   "cell_type": "code",
   "execution_count": 38,
   "id": "6cc33b70",
   "metadata": {},
   "outputs": [
    {
     "data": {
      "text/plain": [
       "<AxesSubplot:>"
      ]
     },
     "execution_count": 38,
     "metadata": {},
     "output_type": "execute_result"
    },
    {
     "data": {
      "image/png": "[encoded data removed]",
      "text/plain": [
       "<Figure size 432x288 with 1 Axes>"
      ]
     },
     "metadata": {
      "needs_background": "light"
     },
     "output_type": "display_data"
    }
   ],
   "source": [
    "s = Series([10, 20, 30, 20, 30, 40, 50, 40, 50, 60, 70, 50])\n",
    "s.plot.line()    # create a line plot from our series (because of \"inline\", show it in the browser)"
   ]
  },
  {
   "cell_type": "code",
   "execution_count": null,
   "id": "c5494244",
   "metadata": {},
   "outputs": [],
   "source": []
  }
 ],
 "metadata": {
  "kernelspec": {
   "display_name": "Python 3 (ipykernel)",
   "language": "python",
   "name": "python3"
  },
  "language_info": {
   "codemirror_mode": {
    "name": "ipython",
    "version": 3
   },
   "file_extension": ".py",
   "mimetype": "text/x-python",
   "name": "python",
   "nbconvert_exporter": "python",
   "pygments_lexer": "ipython3",
   "version": "3.10.1"
  }
 },
 "nbformat": 4,
 "nbformat_minor": 5
}

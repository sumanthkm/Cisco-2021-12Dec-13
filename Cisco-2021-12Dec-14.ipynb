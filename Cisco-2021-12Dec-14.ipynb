{
 "cells": [
  {
   "cell_type": "markdown",
   "id": "dfdd3ca0",
   "metadata": {},
   "source": [
    "# Agenda\n",
    "\n",
    "1. Sorting\n",
    "2. Strings and series\n",
    "3. Plotting \n",
    "4. Data frames\n",
    "     - Defining\n",
    "     - Reading data from files into them\n",
    "     - Sorting\n",
    "     - Grouping\n",
    "     - Pivot tables\n",
    "     - Plotting"
   ]
  },
  {
   "cell_type": "code",
   "execution_count": 2,
   "id": "b446e786",
   "metadata": {},
   "outputs": [],
   "source": [
    "import numpy as np\n",
    "import pandas as pd\n",
    "from pandas import Series, DataFrame\n",
    "%matplotlib inline"
   ]
  },
  {
   "cell_type": "code",
   "execution_count": 3,
   "id": "577b78d9",
   "metadata": {},
   "outputs": [
    {
     "data": {
      "text/plain": [
       "a    44\n",
       "b    47\n",
       "c    64\n",
       "d    67\n",
       "e    67\n",
       "f     9\n",
       "g    83\n",
       "h    21\n",
       "i    36\n",
       "j    87\n",
       "dtype: int64"
      ]
     },
     "execution_count": 3,
     "metadata": {},
     "output_type": "execute_result"
    }
   ],
   "source": [
    "np.random.seed(0)\n",
    "s = Series(np.random.randint(0, 100, 10),\n",
    "          index=list('abcdefghij'))\n",
    "s"
   ]
  },
  {
   "cell_type": "code",
   "execution_count": null,
   "id": "bd8e670e",
   "metadata": {},
   "outputs": [],
   "source": [
    "# how can I sort these?\n"
   ]
  }
 ],
 "metadata": {
  "kernelspec": {
   "display_name": "Python 3 (ipykernel)",
   "language": "python",
   "name": "python3"
  },
  "language_info": {
   "codemirror_mode": {
    "name": "ipython",
    "version": 3
   },
   "file_extension": ".py",
   "mimetype": "text/x-python",
   "name": "python",
   "nbconvert_exporter": "python",
   "pygments_lexer": "ipython3",
   "version": "3.10.1"
  }
 },
 "nbformat": 4,
 "nbformat_minor": 5
}
